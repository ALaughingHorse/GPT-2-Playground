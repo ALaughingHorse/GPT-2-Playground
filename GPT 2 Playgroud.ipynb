{
 "cells": [
  {
   "cell_type": "markdown",
   "metadata": {},
   "source": [
    "## Preparation\n",
    "\n",
    "Clone the git repo, download the models and install necessary packages"
   ]
  },
  {
   "cell_type": "markdown",
   "metadata": {},
   "source": [
    "!git clone https://github.com/ilopezfr/gpt-2/\n",
    "!python gpt-2/download_model.py 117M\n",
    "!pip install -r gpt-2/requirements.txt"
   ]
  },
  {
   "cell_type": "code",
   "execution_count": 2,
   "metadata": {},
   "outputs": [],
   "source": [
    "from src.interactive_conditional_samples_mem import *"
   ]
  },
  {
   "cell_type": "code",
   "execution_count": 10,
   "metadata": {},
   "outputs": [],
   "source": [
    "test_1 = \"In a shocking finding, scientist discovered a herd of unicorns living in a remote, \\\n",
    "previously unexplored valley, in the Andes Mountains. Even more surprising to the researchers \\\n",
    "was the fact that the unicorns spoke perfect English.\"\n",
    "\n",
    "test_2 = \"The BPA-Free UltraMax Water Dispenser holds 18 cups or 1.13 gallons \\\n",
    "of water which is great for families and fits neatly on countertops and refrigerator shelves.\"\n",
    "\n",
    "test_3 = \"I usually buy the Lysol 3 or 4 pack here on Amazon. \\\n",
    "I also buy the off label brands in the store. This by far has been my favorite. \\\n",
    "I love the package of micro-scrubbers. They have little, rigid bumps built into \\\n",
    "the wipes that make tough stains on the stove less frustrating. Another reason I \\\n",
    "prefer these is they didn’t arrive all in lemon scent. In our house, we have cats. \\\n",
    "If you have older cats, like me they get hairballs, they throw up. In our home, \\\n",
    "that lemon scent is now associated with cat barf rather than clean countertops. \\\n",
    "If you smell lemon wipes in our home it makes you nauseous, because you relate it \\\n",
    "to cleaning up cat puke. So, good on Clorox for including other scents besides lemon. \\\n",
    "These are durable as well. No complaints at all here. I plan on purchasing again. \\\n",
    "Q: Why did I bought the product? A:\""
   ]
  },
  {
   "cell_type": "code",
   "execution_count": 13,
   "metadata": {},
   "outputs": [
    {
     "name": "stdout",
     "output_type": "stream",
     "text": [
      "INFO:tensorflow:Restoring parameters from ../../pretrained_models/gpt2_models/345M/model.ckpt\n"
     ]
    },
    {
     "data": {
      "text/plain": [
       "[\" I didn’t like how they labeled it. Q: Why does that smell so good? A: It smells so freaking good. It's been on my clothes and at my desk for half the day. It's horrible. It [ensures that] I smell like an old dude. Q: So you bought the product? A: Oh my God. It doesn't smell like wet maple or brown sugar. I know it does not taste like something in the grocery store. It\",\n",
       " \" Here you have it. The folks at Clorox think the removable Sterilite wipes just like the bathroom counter scrub. In fact, they say one of my transients told me she went on a month-long trial with someone and that they actually liked whatever they used with their wash. Now, I'm not saying they're full of crap, I know there are two brands that are alcohol based and are clogging their cartons. So, no, I don't recommend that type of\",\n",
       " ' I wanted a washing machine oil! I am allergic to citrus and to citrus oils, so I rushed Clorox right after I realized I was allergic to lemon. I bought this product because a friend of mine had used Clorox on her hands, which he though was rather irritating. I also wanted bleaching williness on my hands. About the scents I have found that work well: \"Pineapple\" from the Amazon reviews and a friend\\'s line suggested by her actually has lemon',\n",
       " \" Usually if I have an issue with a product, I purchase the replacement product which is deodorant, maybe it came with a bad bottle? You can call Clorox and they will do it for you. Q: Why was this Amazon Review so bad? A: The Amazon customer service representative lied on the phone with a bunch of bullshit. I went over their phone line and they lied to me. When I review the product, I'll share my phone number and e-mail address for\",\n",
       " \" The first complaint I had with this scrub was that it was too oily! Packing this in my kitchen shower is a great exercise to get rid of soap residue. However, after a week the oil caught up on my rack top and was very visible at the bottom of the shower. I decided to toss it away and now haven't had a chance to wash my shower door! This product is so easy to use and may be slightly harder to find because of its acne-prone nature. If\"]"
      ]
     },
     "execution_count": 13,
     "metadata": {},
     "output_type": "execute_result"
    }
   ],
   "source": [
    "interact_model(raw_text = test_3,model_name = '345M',models_dir='../../pretrained_models/gpt2_models',temperature=0.9,\\\n",
    "               nsamples = 5, length = 100)"
   ]
  },
  {
   "cell_type": "code",
   "execution_count": null,
   "metadata": {},
   "outputs": [],
   "source": []
  }
 ],
 "metadata": {
  "kernelspec": {
   "display_name": "Python 3",
   "language": "python",
   "name": "python3"
  },
  "language_info": {
   "codemirror_mode": {
    "name": "ipython",
    "version": 3
   },
   "file_extension": ".py",
   "mimetype": "text/x-python",
   "name": "python",
   "nbconvert_exporter": "python",
   "pygments_lexer": "ipython3",
   "version": "3.7.3"
  }
 },
 "nbformat": 4,
 "nbformat_minor": 2
}
